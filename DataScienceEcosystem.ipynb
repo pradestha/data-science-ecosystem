{
 "cells": [
  {
   "cell_type": "markdown",
   "id": "ec2ff334-369d-44a1-a0e1-6c6b1f47494b",
   "metadata": {},
   "source": [
    "In this notebook, Data Science Tools and Ecosystem are summarized."
   ]
  },
  {
   "cell_type": "markdown",
   "id": "e0856a44-736d-4ec8-9933-cac6cf9f74dc",
   "metadata": {},
   "source": [
    "In this notebook, Data Science Tools and Ecosystem are summarized."
   ]
  },
  {
   "cell_type": "markdown",
   "id": "d6835444-745f-411c-81fe-73d03e7548c4",
   "metadata": {},
   "source": [
    "**Objectives:**\n",
    "-List popular languages for Data Science:\n",
    "  * Python\n",
    "  * R\n",
    "  * Scala\n",
    "  * Julia\n",
    "- Common libraries used in data science:\n",
    "  * NumPy\n",
    "  * Pandas\n",
    "  * Matplotlib\n",
    "- Data Science Open Source Tools:\n",
    "  * Jupyter Notebooks\n",
    "  * RStudio\n",
    "  * Spyder"
   ]
  },
  {
   "cell_type": "markdown",
   "id": "5399fda3-6ab9-4b76-a5a3-3a74289d4a2f",
   "metadata": {},
   "source": [
    "**Objectives:**\n",
    "-List popular languages for Data Science:\n",
    "  * Python\n",
    "  * R\n",
    "  * Scala\n",
    "  * Julia\n",
    "- Common libraries used in data science:\n",
    "  * NumPy\n",
    "  * Pandas\n",
    "  * Matplotlib\n",
    "- Data Science Open Source Tools:\n",
    "  * Jupyter Notebooks\n",
    "  * RStudio\n",
    "  * Spyder"
   ]
  },
  {
   "cell_type": "markdown",
   "id": "5b45610e-e44e-4d56-8fbc-7443ccfe899d",
   "metadata": {},
   "source": [
    "Some of the popular languages that Data Scientists use are:\n",
    "1.Python\n",
    "2.R\n",
    "3.SQL\n",
    "4.Julia\n",
    "5.Scala etc."
   ]
  },
  {
   "cell_type": "markdown",
   "id": "ce685cdf-9f2d-4c09-9fa2-550d56d7e84b",
   "metadata": {},
   "source": [
    "Some of the popular languages that Data Scientists use are:\n",
    "1.Python\n",
    "2.R\n",
    "3.SQL\n",
    "4.Julia\n",
    "5.Scala etc."
   ]
  },
  {
   "cell_type": "markdown",
   "id": "56cd54f9-287d-4cc7-9074-d20ae99c56e9",
   "metadata": {},
   "source": [
    "Some of the commonly used libraries used by Data Scientists include:\n",
    "1.NumPy\n",
    "2.Pandas\n",
    "3.Matplotlib\n",
    "4.PyTorch\n",
    "5.Keras\n",
    "6.Tensorflow etc."
   ]
  },
  {
   "cell_type": "markdown",
   "id": "72f75155-8879-4df2-8c1f-77cf7c2380da",
   "metadata": {},
   "source": [
    "Some of the commonly used libraries used by Data Scientists include:\n",
    "1.NumPy\n",
    "2.Pandas\n",
    "3.Matplotlib\n",
    "4.PyTorch\n",
    "5.Keras\n",
    "6.Tensorflow etc."
   ]
  },
  {
   "cell_type": "markdown",
   "id": "f851b463-5144-4b7f-8ac4-5a3ab3cb0d05",
   "metadata": {},
   "source": [
    "|Data Science Tools:|\n",
    "|-------------------|\n",
    "|Jupyter Notebook   |\n",
    "|RStidio            |\n",
    "|Spyder             |"
   ]
  },
  {
   "cell_type": "markdown",
   "id": "2f4d47fa-52c8-464c-af44-389016526750",
   "metadata": {},
   "source": [
    "|Data Science Tools:|\n",
    "|-------------------|\n",
    "|Jupyter Notebook   |\n",
    "|RStidio            |\n",
    "|Spyder             |"
   ]
  },
  {
   "cell_type": "markdown",
   "id": "10a10f4c-f4a8-4800-bb7a-cd21cc1be1ed",
   "metadata": {},
   "source": [
    "###Below are a few examples of evaluating arithmetic expressions in Python."
   ]
  },
  {
   "cell_type": "markdown",
   "id": "89012f35-7d56-40f4-91ea-dc58291f148b",
   "metadata": {},
   "source": [
    "###Below are a few examples of evaluating arithmetic expressions in Python."
   ]
  },
  {
   "cell_type": "code",
   "execution_count": 2,
   "id": "2acab3e8-9551-4591-8ec3-61a6a5b5a6c9",
   "metadata": {},
   "outputs": [
    {
     "data": {
      "text/plain": [
       "17"
      ]
     },
     "execution_count": 2,
     "metadata": {},
     "output_type": "execute_result"
    }
   ],
   "source": [
    "(3*4)+5"
   ]
  },
  {
   "cell_type": "code",
   "execution_count": 3,
   "id": "fd3c48f2-a542-4397-a794-aff0edaee571",
   "metadata": {},
   "outputs": [
    {
     "data": {
      "text/plain": [
       "3.3333333333333335"
      ]
     },
     "execution_count": 3,
     "metadata": {},
     "output_type": "execute_result"
    }
   ],
   "source": [
    "#This will convert 200 minutes to hours by diving by 60\n",
    "a = 200\n",
    "b = a/60\n",
    "b"
   ]
  },
  {
   "cell_type": "markdown",
   "id": "72b8685a-d7da-472a-a8cf-533f628e682a",
   "metadata": {},
   "source": [
    "## Author\n",
    "Pradestha Pattnaik"
   ]
  },
  {
   "cell_type": "markdown",
   "id": "6619b647-b928-443a-b582-6d73c3f11bce",
   "metadata": {},
   "source": [
    "## Author\n",
    "Pradestha Pattnaik"
   ]
  }
 ],
 "metadata": {
  "kernelspec": {
   "display_name": "Python 3 (ipykernel)",
   "language": "python",
   "name": "python3"
  },
  "language_info": {
   "codemirror_mode": {
    "name": "ipython",
    "version": 3
   },
   "file_extension": ".py",
   "mimetype": "text/x-python",
   "name": "python",
   "nbconvert_exporter": "python",
   "pygments_lexer": "ipython3",
   "version": "3.12.7"
  }
 },
 "nbformat": 4,
 "nbformat_minor": 5
}
